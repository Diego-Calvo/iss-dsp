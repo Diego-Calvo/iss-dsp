{
 "cells": [
  {
   "cell_type": "code",
   "execution_count": null,
   "source": [
    "import matplotlib.pyplot as plt\n",
    "import numpy as np"
   ],
   "outputs": [],
   "metadata": {}
  },
  {
   "cell_type": "code",
   "execution_count": null,
   "source": [
    "from scipy.io import wavfile\n",
    "\n",
    "SAMPLE_RATE = 44100  # Hertz\n",
    "DURATION = 5  # Seconds\n",
    "NOISE = 0.04  # To be added to the sine data\n",
    "\n",
    "def generate_wav_data():\n",
    "    sample_rate, data = wavfile.read('sample-input/crickets.wav')\n",
    "    length = data.shape[0] / sample_rate\n",
    "\n",
    "    time = np.linspace(0., length, data.shape[0])\n",
    "    # plt.plot(time, data[:, 0], label=\"Left channel\")\n",
    "    # plt.plot(time, data[:, 1], label=\"Right channel\")\n",
    "    # plt.legend()\n",
    "    # plt.xlabel(\"Time [s]\")\n",
    "    # plt.ylabel(\"Amplitude\")\n",
    "    # plt.show()\n",
    "    return sample_rate, length, time, data[:, 0]\n",
    "\n",
    "def generate_sine_data(freq, sample_rate, duration, noise):\n",
    "    \"\"\"Generates a sample sine wave with a specific sample rate, constant\n",
    "    frequency and max amplitude of 1.0.\n",
    "    \"\"\"\n",
    "    x = np.linspace(0, duration, sample_rate * duration, endpoint=False)\n",
    "    frequencies = x * freq\n",
    "    # 2pi because np.sin takes radians\n",
    "    y = np.sin((2 * np.pi) * frequencies) + np.random.normal(scale=noise, size=len(x))\n",
    "    return sample_rate, duration, x, y\n"
   ],
   "outputs": [],
   "metadata": {}
  },
  {
   "cell_type": "code",
   "execution_count": null,
   "source": [
    "def acquire_data():\n",
    "    # return generate_sine_data(2, SAMPLE_RATE, DURATION, NOISE)\n",
    "    return generate_wav_data()"
   ],
   "outputs": [],
   "metadata": {}
  },
  {
   "cell_type": "code",
   "execution_count": null,
   "source": [
    "# Generate a 2 hertz sine wave that lasts for 5 seconds\n",
    "sample_rate, duration, x, y = acquire_data()\n",
    "plt.plot(x, y)\n",
    "plt.show()"
   ],
   "outputs": [],
   "metadata": {}
  },
  {
   "cell_type": "code",
   "execution_count": null,
   "source": [
    "\n",
    "# Number of samples in normalized_tone\n",
    "N = int(sample_rate * duration)\n",
    "\n",
    "from scipy.fft import rfft, rfftfreq\n",
    "\n",
    "# Note the extra 'r' at the front\n",
    "yf = rfft(y)\n",
    "xf = rfftfreq(N, 1 / SAMPLE_RATE)\n",
    "\n",
    "plt.plot(xf, np.abs(yf))\n",
    "plt.show()"
   ],
   "outputs": [],
   "metadata": {}
  },
  {
   "cell_type": "code",
   "execution_count": null,
   "source": [
    "import pandas as pd\n",
    "from datetime import datetime\n",
    "df = pd.DataFrame()\n",
    "df['power'] = np.abs(yf)\n",
    "df['frequency'] = xf\n",
    "df['timestamp'] = datetime.now()\n",
    "df['latitude'] = 32.9002239196049\n",
    "df['longitude'] = -96.96302798539023\n",
    "\n",
    "print(f'Original shape {df.shape}')\n",
    "\n",
    "POWER_THRESHOLD = 1000000\n",
    "df.loc[df.power < POWER_THRESHOLD, 'power'] = 0.0\n",
    "print(f'Filtered shape {df.shape}')\n",
    "\n",
    "df.head()"
   ],
   "outputs": [],
   "metadata": {}
  },
  {
   "cell_type": "code",
   "execution_count": null,
   "source": [
    "plt.plot(df.frequency, df.power)\n",
    "plt.show()"
   ],
   "outputs": [],
   "metadata": {}
  }
 ],
 "metadata": {
  "orig_nbformat": 4,
  "kernelspec": {
   "name": "python3",
   "display_name": "Python 3 (ipykernel)",
   "language": "python"
  },
  "language_info": {
   "name": "python",
   "version": "3.9.7",
   "mimetype": "text/x-python",
   "codemirror_mode": {
    "name": "ipython",
    "version": 3
   },
   "pygments_lexer": "ipython3",
   "nbconvert_exporter": "python",
   "file_extension": ".py"
  }
 },
 "nbformat": 4,
 "nbformat_minor": 2
}